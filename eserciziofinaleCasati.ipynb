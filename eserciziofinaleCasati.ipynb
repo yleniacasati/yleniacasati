{
 "cells": [
  {
   "cell_type": "code",
   "execution_count": 26,
   "metadata": {},
   "outputs": [
    {
     "name": "stdout",
     "output_type": "stream",
     "text": [
      "Dimensioni del dataset: (247, 67)\n",
      "Intestazioni delle colonne: ['iso_code', 'continent', 'location', 'last_updated_date', 'total_cases', 'new_cases', 'new_cases_smoothed', 'total_deaths', 'new_deaths', 'new_deaths_smoothed', 'total_cases_per_million', 'new_cases_per_million', 'new_cases_smoothed_per_million', 'total_deaths_per_million', 'new_deaths_per_million', 'new_deaths_smoothed_per_million', 'reproduction_rate', 'icu_patients', 'icu_patients_per_million', 'hosp_patients', 'hosp_patients_per_million', 'weekly_icu_admissions', 'weekly_icu_admissions_per_million', 'weekly_hosp_admissions', 'weekly_hosp_admissions_per_million', 'total_tests', 'new_tests', 'total_tests_per_thousand', 'new_tests_per_thousand', 'new_tests_smoothed', 'new_tests_smoothed_per_thousand', 'positive_rate', 'tests_per_case', 'tests_units', 'total_vaccinations', 'people_vaccinated', 'people_fully_vaccinated', 'total_boosters', 'new_vaccinations', 'new_vaccinations_smoothed', 'total_vaccinations_per_hundred', 'people_vaccinated_per_hundred', 'people_fully_vaccinated_per_hundred', 'total_boosters_per_hundred', 'new_vaccinations_smoothed_per_million', 'new_people_vaccinated_smoothed', 'new_people_vaccinated_smoothed_per_hundred', 'stringency_index', 'population_density', 'median_age', 'aged_65_older', 'aged_70_older', 'gdp_per_capita', 'extreme_poverty', 'cardiovasc_death_rate', 'diabetes_prevalence', 'female_smokers', 'male_smokers', 'handwashing_facilities', 'hospital_beds_per_thousand', 'life_expectancy', 'human_development_index', 'population', 'excess_mortality_cumulative_absolute', 'excess_mortality_cumulative', 'excess_mortality', 'excess_mortality_cumulative_per_million']\n"
     ]
    }
   ],
   "source": [
    "import pandas as pd\n",
    "\n",
    "# Sostituisci 'owid-covid-data.csv' con il percorso del tuo file Excel\n",
    "file_path = \"https://covid.ourworldindata.org/data/latest/owid-covid-latest.csv\"\n",
    "\n",
    "# Assicurati che il tuo file Excel sia nel formato '.csv'\n",
    "df = pd.read_csv(file_path)\n",
    "\n",
    "\n",
    "# dimensioni del dataset\n",
    "print(\"Dimensioni del dataset:\", df.shape)\n",
    "\n",
    "# intestazione del dataset\n",
    "print(\"Intestazioni delle colonne:\", df.columns.tolist())"
   ]
  },
  {
   "cell_type": "code",
   "execution_count": 27,
   "metadata": {},
   "outputs": [
    {
     "data": {
      "text/plain": [
       "continent\n",
       "Africa            13138981.0\n",
       "Asia             301361685.0\n",
       "Europe           252322670.0\n",
       "North America    124525247.0\n",
       "Oceania           14791157.0\n",
       "South America     68693747.0\n",
       "Name: total_cases, dtype: float64"
      ]
     },
     "execution_count": 27,
     "metadata": {},
     "output_type": "execute_result"
    }
   ],
   "source": [
    "# Calcolo il numero totale di casi per ogni paese\n",
    "latest_cases_per_country = df.groupby(['continent', 'location'])['total_cases'].last().dropna()\n",
    "\n",
    "# Sommo i casi più recenti per ogni continente\n",
    "total_cases_latest_by_continent = latest_cases_per_country.groupby('continent').sum()\n",
    "\n",
    "total_cases_latest_by_continent"
   ]
  },
  {
   "cell_type": "code",
   "execution_count": 29,
   "metadata": {},
   "outputs": [
    {
     "data": {
      "text/plain": [
       "{'Europe': {'Statistics': {'Min': 26.0,\n",
       "   'Max': 38997490.0,\n",
       "   'Mean': 4947503.333333333},\n",
       "  'Percent of World Cases': 7.684086266617032},\n",
       " 'Asia': {'Statistics': {'Min': 11945.0,\n",
       "   'Max': 99336751.0,\n",
       "   'Mean': 6696926.333333333},\n",
       "  'Percent of World Cases': 9.177491602292683}}"
      ]
     },
     "execution_count": 29,
     "metadata": {},
     "output_type": "execute_result"
    }
   ],
   "source": [
    "def compare_continents_stats(df, continent1, continent2):\n",
    "    \"\"\"\n",
    "    Confronta i descrittori statistici (minimo, massimo, media) dei casi totali di COVID-19\n",
    "    per due continenti specificati, e calcola la loro percentuale rispetto al totale mondiale.\n",
    "\n",
    "    :param df: DataFrame contenente i dati del COVID-19.\n",
    "    :param continent1: Il primo continente da confrontare.\n",
    "    :param continent2: Il secondo continente da confrontare.\n",
    "    :return: Un dizionario con i descrittori statistici per ogni continente e la loro percentuale rispetto al totale mondiale.\n",
    "    \"\"\"\n",
    "    # Filtrare i dati per i due continenti\n",
    "    df_continent1 = df[df['continent'] == continent1]\n",
    "    df_continent2 = df[df['continent'] == continent2]\n",
    "\n",
    "    # Calcolare i descrittori statistici\n",
    "    stats_continent1 = {\n",
    "        \"Min\": df_continent1['total_cases'].min(),\n",
    "        \"Max\": df_continent1['total_cases'].max(),\n",
    "        \"Mean\": df_continent1['total_cases'].mean()\n",
    "    }\n",
    "    stats_continent2 = {\n",
    "        \"Min\": df_continent2['total_cases'].min(),\n",
    "        \"Max\": df_continent2['total_cases'].max(),\n",
    "        \"Mean\": df_continent2['total_cases'].mean()\n",
    "    }\n",
    "\n",
    "    # Calcolo della percentuale totale dei casi mondiali\n",
    "    total_world_cases = df['total_cases'].sum()\n",
    "    total_cases_continent1 = df_continent1['total_cases'].sum()\n",
    "    total_cases_continent2 = df_continent2['total_cases'].sum()\n",
    "\n",
    "    percent_continent1 = (total_cases_continent1 / total_world_cases) * 100\n",
    "    percent_continent2 = (total_cases_continent2 / total_world_cases) * 100\n",
    "\n",
    "    return {\n",
    "        continent1: {\n",
    "            \"Statistics\": stats_continent1,\n",
    "            \"Percent of World Cases\": percent_continent1\n",
    "        },\n",
    "        continent2: {\n",
    "            \"Statistics\": stats_continent2,\n",
    "            \"Percent of World Cases\": percent_continent2\n",
    "    }\n",
    "    }\n",
    "\n",
    "# Esempio di utilizzo della funzione con l'Europa e l'Asia\n",
    "compare_continents_stats(df, \"Europe\",\"Asia\")\n"
   ]
  },
  {
   "cell_type": "code",
   "execution_count": 30,
   "metadata": {},
   "outputs": [
    {
     "data": {
      "text/plain": [
       "{'Europe': {'Statistics': {'Min': 1408786.0,\n",
       "   'Max': 28312817.0,\n",
       "   'Mean': 11819287.0},\n",
       "  'Percent of World Vaccinations': 0.19509202374451076},\n",
       " 'Asia': {'Statistics': {'Min': 20984820.0,\n",
       "   'Max': 2206802661.0,\n",
       "   'Mean': 665530991.25},\n",
       "  'Percent of World Vaccinations': 6.277380737223479}}"
      ]
     },
     "execution_count": 30,
     "metadata": {},
     "output_type": "execute_result"
    }
   ],
   "source": [
    "def compare_continents_vaccinations(df, continent1, continent2):\n",
    "    \"\"\"\n",
    "    Confronta i descrittori statistici (minimo, massimo, media) delle vaccinazioni totali\n",
    "    per due continenti specificati, e calcola la loro percentuale rispetto al totale mondiale.\n",
    "\n",
    "    :param df: DataFrame contenente i dati del COVID-19.\n",
    "    :param continent1: Il primo continente da confrontare.\n",
    "    :param continent2: Il secondo continente da confrontare.\n",
    "    :return: Un dizionario con i descrittori statistici per ogni continente e la loro percentuale rispetto al totale mondiale.\n",
    "    \"\"\"\n",
    "    # Filtrare i dati per i due continenti\n",
    "    df_continent1 = df[df['continent'] == continent1]\n",
    "    df_continent2 = df[df['continent'] == continent2]\n",
    "\n",
    "    # Calcolare i descrittori statistici\n",
    "    stats_continent1 = {\n",
    "        \"Min\": df_continent1['total_vaccinations'].min(),\n",
    "        \"Max\": df_continent1['total_vaccinations'].max(),\n",
    "        \"Mean\": df_continent1['total_vaccinations'].mean()\n",
    "    }\n",
    "    stats_continent2 = {\n",
    "        \"Min\": df_continent2['total_vaccinations'].min(),\n",
    "        \"Max\": df_continent2['total_vaccinations'].max(),\n",
    "        \"Mean\": df_continent2['total_vaccinations'].mean()\n",
    "    }\n",
    "\n",
    "    # Calcolo della percentuale totale delle vaccinazioni mondiali\n",
    "    total_world_vaccinations = df['total_vaccinations'].sum()\n",
    "    total_vaccinations_continent1 = df_continent1['total_vaccinations'].sum()\n",
    "    total_vaccinations_continent2 = df_continent2['total_vaccinations'].sum()\n",
    "\n",
    "    percent_continent1 = (total_vaccinations_continent1 / total_world_vaccinations) * 100\n",
    "    percent_continent2 = (total_vaccinations_continent2 / total_world_vaccinations) * 100\n",
    "\n",
    "    return {\n",
    "        continent1: {\n",
    "            \"Statistics\": stats_continent1,\n",
    "            \"Percent of World Vaccinations\": percent_continent1\n",
    "        },\n",
    "        continent2: {\n",
    " \"Statistics\": stats_continent2,\n",
    "            \"Percent of World Vaccinations\": percent_continent2\n",
    "        }\n",
    "    }\n",
    "\n",
    "# Esempio di utilizzo della funzione con l'Europa e l'Asia\n",
    "compare_continents_vaccinations(df, \"Europe\",\"Asia\")"
   ]
  }
 ],
 "metadata": {
  "kernelspec": {
   "display_name": "Python 3",
   "language": "python",
   "name": "python3"
  },
  "language_info": {
   "codemirror_mode": {
    "name": "ipython",
    "version": 3
   },
   "file_extension": ".py",
   "mimetype": "text/x-python",
   "name": "python",
   "nbconvert_exporter": "python",
   "pygments_lexer": "ipython3",
   "version": "3.11.8"
  }
 },
 "nbformat": 4,
 "nbformat_minor": 2
}
